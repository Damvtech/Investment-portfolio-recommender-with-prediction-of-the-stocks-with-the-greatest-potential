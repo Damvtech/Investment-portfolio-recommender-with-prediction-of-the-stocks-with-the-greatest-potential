{
 "cells": [
  {
   "cell_type": "code",
   "execution_count": 1,
   "id": "06e81bfc",
   "metadata": {},
   "outputs": [],
   "source": [
    "import streamlit as st\n",
    "import pandas as pd\n",
    "import numpy as np\n",
    "import yfinance as yf\n",
    "from datetime import datetime, timedelta\n",
    "from scipy.optimize import minimize\n",
    "import matplotlib.pyplot as plt\n",
    "from dotenv import load_dotenv\n",
    "import os\n",
    "import openai\n",
    "from openai import OpenAI\n",
    "\n",
    "load_dotenv()\n",
    "#openai.api_key = st.secrets.get(\"OPENAI_API_KEY\", os.getenv(\"OPENAI_API_KEY\"))\n",
    "\n",
    "#import cmdstanpy\n",
    "#cmdstanpy.install_cmdstan()\n",
    "\n",
    "\n",
    "# Definir las fechas globalmente\n",
    "end_date = datetime.now()\n",
    "start_date = end_date - timedelta(days=5*365)"
   ]
  },
  {
   "cell_type": "code",
   "execution_count": 2,
   "id": "7178bea2",
   "metadata": {},
   "outputs": [],
   "source": [
    "top_stocks = 'top_28_growth_stocks.csv'\n",
    "df = pd.read_csv(top_stocks)"
   ]
  },
  {
   "cell_type": "code",
   "execution_count": 3,
   "id": "5b023470",
   "metadata": {},
   "outputs": [
    {
     "name": "stdout",
     "output_type": "stream",
     "text": [
      "top_stocks_tickers: \n",
      "['CWEN', 'CODQL', 'GNK', 'AVTR', 'FCN', 'MRTN', 'XYL', 'PDEX', 'ETR', 'SPRS', 'HURN', 'RSG', 'CWST', 'CTS', 'TRMB', 'ANSS', 'ADEA', 'NI', 'ACCO', 'ALE', 'CXT', 'HEI', 'MSA', 'RBC', 'MWA', 'ALB', 'LNG', 'CVLG']\n",
      "top_stocks_names: \n",
      "['CLEARWAY ENERGY, INC.', 'CORONADO GLOBAL RESOURCES INC.', 'GENCO SHIPPING & TRADING LTD', 'AVANTOR, INC.', 'FTI CONSULTING, INC', 'MARTEN TRANSPORT LTD', 'XYLEM INC.', 'PRO DEX INC', 'ENTERGY CORP /DE/', 'SURGE COMPONENTS INC', 'HURON CONSULTING GROUP INC.', 'REPUBLIC SERVICES, INC.', 'CASELLA WASTE SYSTEMS INC', 'CTS CORP', 'TRIMBLE INC.', 'ANSYS INC', 'XPERI HOLDING CORP', 'NISOURCE INC.', 'ACCO BRANDS CORP', 'ALLETE INC', 'CRANE CO /DE/', 'HEICO CORP', 'MSA SAFETY INC', 'RBC BEARINGS INC', 'MUELLER WATER PRODUCTS, INC.', 'ALBEMARLE CORP', 'CHENIERE ENERGY INC', 'COVENANT LOGISTICS GROUP, INC.']\n"
     ]
    }
   ],
   "source": [
    "top_stocks_tickers = df['Ticker'].tolist()\n",
    "top_stocks_names = df['name'].tolist()\n",
    "print(\"top_stocks_tickers: \")\n",
    "print(top_stocks_tickers)\n",
    "print(\"top_stocks_names: \")\n",
    "print(top_stocks_names)\n"
   ]
  },
  {
   "cell_type": "code",
   "execution_count": 4,
   "id": "c11e1cd4",
   "metadata": {},
   "outputs": [
    {
     "name": "stderr",
     "output_type": "stream",
     "text": [
      "CWEN: No price data found, symbol may be delisted (period=1d)\n"
     ]
    },
    {
     "name": "stdout",
     "output_type": "stream",
     "text": [
      "Ticker NO válido o sin datos: CWEN (CLEARWAY ENERGY, INC.)\n"
     ]
    },
    {
     "name": "stderr",
     "output_type": "stream",
     "text": [
      "CODQL: No price data found, symbol may be delisted (period=1d)\n"
     ]
    },
    {
     "name": "stdout",
     "output_type": "stream",
     "text": [
      "Ticker NO válido o sin datos: CODQL (CORONADO GLOBAL RESOURCES INC.)\n"
     ]
    },
    {
     "name": "stderr",
     "output_type": "stream",
     "text": [
      "GNK: No price data found, symbol may be delisted (period=1d)\n"
     ]
    },
    {
     "name": "stdout",
     "output_type": "stream",
     "text": [
      "Ticker NO válido o sin datos: GNK (GENCO SHIPPING & TRADING LTD)\n"
     ]
    },
    {
     "name": "stderr",
     "output_type": "stream",
     "text": [
      "AVTR: No price data found, symbol may be delisted (period=1d)\n"
     ]
    },
    {
     "name": "stdout",
     "output_type": "stream",
     "text": [
      "Ticker NO válido o sin datos: AVTR (AVANTOR, INC.)\n"
     ]
    },
    {
     "name": "stderr",
     "output_type": "stream",
     "text": [
      "FCN: No price data found, symbol may be delisted (period=1d)\n"
     ]
    },
    {
     "name": "stdout",
     "output_type": "stream",
     "text": [
      "Ticker NO válido o sin datos: FCN (FTI CONSULTING, INC)\n"
     ]
    },
    {
     "name": "stderr",
     "output_type": "stream",
     "text": [
      "MRTN: No price data found, symbol may be delisted (period=1d)\n"
     ]
    },
    {
     "name": "stdout",
     "output_type": "stream",
     "text": [
      "Ticker NO válido o sin datos: MRTN (MARTEN TRANSPORT LTD)\n"
     ]
    },
    {
     "name": "stderr",
     "output_type": "stream",
     "text": [
      "XYL: No price data found, symbol may be delisted (period=1d)\n"
     ]
    },
    {
     "name": "stdout",
     "output_type": "stream",
     "text": [
      "Ticker NO válido o sin datos: XYL (XYLEM INC.)\n"
     ]
    },
    {
     "name": "stderr",
     "output_type": "stream",
     "text": [
      "PDEX: No price data found, symbol may be delisted (period=1d)\n"
     ]
    },
    {
     "name": "stdout",
     "output_type": "stream",
     "text": [
      "Ticker NO válido o sin datos: PDEX (PRO DEX INC)\n"
     ]
    },
    {
     "name": "stderr",
     "output_type": "stream",
     "text": [
      "ETR: No price data found, symbol may be delisted (period=1d)\n"
     ]
    },
    {
     "name": "stdout",
     "output_type": "stream",
     "text": [
      "Ticker NO válido o sin datos: ETR (ENTERGY CORP /DE/)\n"
     ]
    },
    {
     "name": "stderr",
     "output_type": "stream",
     "text": [
      "SPRS: No price data found, symbol may be delisted (period=1d)\n"
     ]
    },
    {
     "name": "stdout",
     "output_type": "stream",
     "text": [
      "Ticker NO válido o sin datos: SPRS (SURGE COMPONENTS INC)\n"
     ]
    },
    {
     "name": "stderr",
     "output_type": "stream",
     "text": [
      "HURN: No price data found, symbol may be delisted (period=1d)\n"
     ]
    },
    {
     "name": "stdout",
     "output_type": "stream",
     "text": [
      "Ticker NO válido o sin datos: HURN (HURON CONSULTING GROUP INC.)\n"
     ]
    },
    {
     "name": "stderr",
     "output_type": "stream",
     "text": [
      "RSG: No price data found, symbol may be delisted (period=1d)\n"
     ]
    },
    {
     "name": "stdout",
     "output_type": "stream",
     "text": [
      "Ticker NO válido o sin datos: RSG (REPUBLIC SERVICES, INC.)\n"
     ]
    },
    {
     "name": "stderr",
     "output_type": "stream",
     "text": [
      "CWST: No price data found, symbol may be delisted (period=1d)\n"
     ]
    },
    {
     "name": "stdout",
     "output_type": "stream",
     "text": [
      "Ticker NO válido o sin datos: CWST (CASELLA WASTE SYSTEMS INC)\n"
     ]
    },
    {
     "name": "stderr",
     "output_type": "stream",
     "text": [
      "CTS: No price data found, symbol may be delisted (period=1d)\n"
     ]
    },
    {
     "name": "stdout",
     "output_type": "stream",
     "text": [
      "Ticker NO válido o sin datos: CTS (CTS CORP)\n"
     ]
    },
    {
     "name": "stderr",
     "output_type": "stream",
     "text": [
      "TRMB: No price data found, symbol may be delisted (period=1d)\n"
     ]
    },
    {
     "name": "stdout",
     "output_type": "stream",
     "text": [
      "Ticker NO válido o sin datos: TRMB (TRIMBLE INC.)\n"
     ]
    },
    {
     "name": "stderr",
     "output_type": "stream",
     "text": [
      "ANSS: No price data found, symbol may be delisted (period=1d)\n"
     ]
    },
    {
     "name": "stdout",
     "output_type": "stream",
     "text": [
      "Ticker NO válido o sin datos: ANSS (ANSYS INC)\n"
     ]
    },
    {
     "name": "stderr",
     "output_type": "stream",
     "text": [
      "ADEA: No price data found, symbol may be delisted (period=1d)\n"
     ]
    },
    {
     "name": "stdout",
     "output_type": "stream",
     "text": [
      "Ticker NO válido o sin datos: ADEA (XPERI HOLDING CORP)\n"
     ]
    },
    {
     "name": "stderr",
     "output_type": "stream",
     "text": [
      "NI: No price data found, symbol may be delisted (period=1d)\n"
     ]
    },
    {
     "name": "stdout",
     "output_type": "stream",
     "text": [
      "Ticker NO válido o sin datos: NI (NISOURCE INC.)\n"
     ]
    },
    {
     "name": "stderr",
     "output_type": "stream",
     "text": [
      "ACCO: No price data found, symbol may be delisted (period=1d)\n"
     ]
    },
    {
     "name": "stdout",
     "output_type": "stream",
     "text": [
      "Ticker NO válido o sin datos: ACCO (ACCO BRANDS CORP)\n"
     ]
    },
    {
     "name": "stderr",
     "output_type": "stream",
     "text": [
      "ALE: No price data found, symbol may be delisted (period=1d)\n"
     ]
    },
    {
     "name": "stdout",
     "output_type": "stream",
     "text": [
      "Ticker NO válido o sin datos: ALE (ALLETE INC)\n"
     ]
    },
    {
     "name": "stderr",
     "output_type": "stream",
     "text": [
      "CXT: No price data found, symbol may be delisted (period=1d)\n"
     ]
    },
    {
     "name": "stdout",
     "output_type": "stream",
     "text": [
      "Ticker NO válido o sin datos: CXT (CRANE CO /DE/)\n"
     ]
    },
    {
     "name": "stderr",
     "output_type": "stream",
     "text": [
      "HEI: No price data found, symbol may be delisted (period=1d)\n"
     ]
    },
    {
     "name": "stdout",
     "output_type": "stream",
     "text": [
      "Ticker NO válido o sin datos: HEI (HEICO CORP)\n"
     ]
    },
    {
     "name": "stderr",
     "output_type": "stream",
     "text": [
      "MSA: No price data found, symbol may be delisted (period=1d)\n"
     ]
    },
    {
     "name": "stdout",
     "output_type": "stream",
     "text": [
      "Ticker NO válido o sin datos: MSA (MSA SAFETY INC)\n"
     ]
    },
    {
     "name": "stderr",
     "output_type": "stream",
     "text": [
      "RBC: No price data found, symbol may be delisted (period=1d)\n"
     ]
    },
    {
     "name": "stdout",
     "output_type": "stream",
     "text": [
      "Ticker NO válido o sin datos: RBC (RBC BEARINGS INC)\n"
     ]
    },
    {
     "name": "stderr",
     "output_type": "stream",
     "text": [
      "MWA: No price data found, symbol may be delisted (period=1d)\n"
     ]
    },
    {
     "name": "stdout",
     "output_type": "stream",
     "text": [
      "Ticker NO válido o sin datos: MWA (MUELLER WATER PRODUCTS, INC.)\n"
     ]
    },
    {
     "name": "stderr",
     "output_type": "stream",
     "text": [
      "ALB: No price data found, symbol may be delisted (period=1d)\n"
     ]
    },
    {
     "name": "stdout",
     "output_type": "stream",
     "text": [
      "Ticker NO válido o sin datos: ALB (ALBEMARLE CORP)\n"
     ]
    },
    {
     "name": "stderr",
     "output_type": "stream",
     "text": [
      "LNG: No price data found, symbol may be delisted (period=1d)\n"
     ]
    },
    {
     "name": "stdout",
     "output_type": "stream",
     "text": [
      "Ticker NO válido o sin datos: LNG (CHENIERE ENERGY INC)\n"
     ]
    },
    {
     "name": "stderr",
     "output_type": "stream",
     "text": [
      "CVLG: No price data found, symbol may be delisted (period=1d)\n"
     ]
    },
    {
     "name": "stdout",
     "output_type": "stream",
     "text": [
      "Ticker NO válido o sin datos: CVLG (COVENANT LOGISTICS GROUP, INC.)\n"
     ]
    }
   ],
   "source": [
    "import yfinance as yf\n",
    "\n",
    "# Comprobar si los tickers existen en yfinance\n",
    "for ticker, name in zip(top_stocks_tickers, top_stocks_names):\n",
    "    try:\n",
    "        data = yf.Ticker(ticker).history(period=\"1d\")\n",
    "        if data.empty:\n",
    "            print(f\"Ticker NO válido o sin datos: {ticker} ({name})\")\n",
    "    except Exception as e:\n",
    "        print(f\"Error con {ticker} ({name}): {e}\")"
   ]
  },
  {
   "cell_type": "code",
   "execution_count": null,
   "id": "ab79510d",
   "metadata": {},
   "outputs": [],
   "source": [
    "# Descargar datos\n",
    "@st.cache_data\n",
    "def cargar_datos():\n",
    "    \n",
    "    # Descargar las empresas con mayor potencial tras aplicar el modelo de predicción\n",
    "    top_stocks = 'top_28_growth_stocks.csv'\n",
    "    df = pd.read_csv(top_stocks)\n",
    "    # Creamos listas con los tickers y nombres de las empresas\n",
    "    top_stocks_tickers = df['Ticker'].tolist()\n",
    "    top_stocks_names = df['name'].tolist()\n",
    "    print(\"top_stocks_tickers: \")\n",
    "    print(top_stocks_tickers)\n",
    "    print(\"top_stocks_names: \")\n",
    "    print(top_stocks_names)\n",
    "    # Comprobar si los tickers existen en yfinance\n",
    "    for ticker, name in zip(top_stocks_tickers, top_stocks_names):\n",
    "        try:\n",
    "            data = yf.Ticker(ticker).history(period=\"1d\")\n",
    "            if data.empty:\n",
    "                print(f\"Ticker NO válido o sin datos: {ticker} ({name})\")\n",
    "        except Exception as e:\n",
    "            print(f\"Error con {ticker} ({name}): {e}\")\n",
    "\n",
    "    # Crear un diccionario con los tickers y nombres de las empresas\n",
    "    symbols = dict(zip(top_stocks_names, top_stocks_tickers))\n",
    "\n",
    "        # Puedes agregar más compañías aquí para tu MVP\n",
    "    \n",
    "    data = pd.DataFrame()\n",
    "    for company, symbol in symbols.items():\n",
    "        df = yf.download(symbol, start=start_date, end=end_date)['Close']\n",
    "        if not df.empty:\n",
    "            data[company] = df\n",
    "        else:\n",
    "            print(f\"No se pudieron descargar los datos para {company} ({symbol}).\")\n",
    "    return data.dropna()\n",
    "\n",
    "data = cargar_datos()"
   ]
  },
  {
   "cell_type": "code",
   "execution_count": null,
   "id": "df7b472c",
   "metadata": {},
   "outputs": [],
   "source": [
    "# Rendimientos diarios\n",
    "daily_returns = data.pct_change().dropna()\n",
    "mean_daily_returns = daily_returns.mean()\n",
    "cov_matrix = daily_returns.cov()\n",
    "\n",
    "# Preguntas\n",
    "st.title(\"📊 Recomendador de Cartera de Inversión\")\n",
    "st.write(\"Responde estas preguntas para determinar la cartera más adecuada a tu apetito de riesgo actual:\")\n",
    "st.write(\"**Esta simulación se basa en datos históricos y no garantiza rentabilidades futuras. Invierte con responsabilidad.*\") # Disclaimer\n",
    "\n",
    "# Widget con clave única\n",
    "q1 = st.radio(\"Nivel de seguridad deseado:\",\n",
    "              [\"Máxima seguridad\", \"Alta seguridad\", \"Equilibrado\", \"Alta rentabilidad\", \"Máxima rentabilidad\"],\n",
    "              index=None, key='q1')\n",
    "\n",
    "q2 = st.radio(\"Diversificación deseada:\",\n",
    "              [\"Muy conservadora\", \"Conservadora\", \"Equilibrada\", \"Agresiva\", \"Muy agresiva\"],\n",
    "              index=None, key='q2')\n",
    "\n",
    "q3 = st.radio(\"Expectativa de rentabilidad:\",\n",
    "              [\"Muy baja\", \"Moderada-baja\", \"Media\", \"Alta\", \"Muy alta\"],\n",
    "              index=None, key='q3')\n",
    "\n",
    "q4 = st.radio(\"Nivel máximo de pérdida aceptable:\",\n",
    "              [\"0%\", \"Hasta 5%\", \"Hasta 10%\", \"Hasta 20%\", \"Más de 20%\"],\n",
    "              index=None, key='q4')\n",
    "\n",
    "q5 = st.radio(\"Horizonte temporal de la inversión:\",\n",
    "              [\"< 1 año\", \"1-3 años\", \"3-5 años\", \"5-10 años\", \">10 años\"],\n",
    "              index=None, key='q5')\n",
    "\n",
    "# Botón para generar cartera (para evitar auto-ejecución)\n",
    "if st.button(\"Generar cartera óptima\"):\n",
    "\n",
    "    # Verificar si todas las preguntas han sido respondidas\n",
    "    if None in [q1, q2, q3, q4, q5]:\n",
    "        st.warning(\"Por favor, responde todas las preguntas antes de continuar.\")\n",
    "    else:\n",
    "        # Calcular puntuación\n",
    "        preguntas = [q1, q2, q3, q4, q5]\n",
    "        puntuaciones = [ [\"Máxima seguridad\", \"Alta seguridad\", \"Equilibrado\", \"Alta rentabilidad\", \"Máxima rentabilidad\"].index(q1)+1,\n",
    "                         [\"Muy conservadora\", \"Conservadora\", \"Equilibrada\", \"Agresiva\", \"Muy agresiva\"].index(q2)+1,\n",
    "                         [\"Muy baja\", \"Moderada-baja\", \"Media\", \"Alta\", \"Muy alta\"].index(q3)+1,\n",
    "                         [\"0%\", \"Hasta 5%\", \"Hasta 10%\", \"Hasta 20%\", \"Más de 20%\"].index(q4)+1,\n",
    "                         [\"< 1 año\", \"1-3 años\", \"3-5 años\", \"5-10 años\", \">10 años\"].index(q5)+1 ]\n",
    "        \n",
    "        total = sum(puntuaciones)\n",
    "\n",
    "        # Categorizar usuario\n",
    "        if total <= 8:\n",
    "            perfil = \"Riesgo mínimo\"\n",
    "        elif total <= 12:\n",
    "            perfil = \"Riesgo bajo\"\n",
    "        elif total <= 17:\n",
    "            perfil = \"Riesgo medio\"\n",
    "        elif total <= 21:\n",
    "            perfil = \"Riesgo alto\"\n",
    "        else:\n",
    "            perfil = \"Rentabilidad máxima\"\n",
    "\n",
    "        st.subheader(f\"Tu perfil actual: {perfil}\")\n",
    "\n",
    "        # Funciones objetivo\n",
    "        def annualized_return(w):\n",
    "            return np.sum(mean_daily_returns * w) * 252\n",
    "\n",
    "        def annualized_volatility(w):\n",
    "            return np.sqrt(np.dot(w.T, np.dot(cov_matrix, w))) * np.sqrt(252)\n",
    "\n",
    "        objetivos = {\n",
    "            \"Riesgo mínimo\": lambda w: annualized_volatility(w),\n",
    "            \"Riesgo bajo\": lambda w: 0.75*annualized_volatility(w)-0.25*annualized_return(w),\n",
    "            \"Riesgo medio\": lambda w: 0.50*annualized_volatility(w)-0.50*annualized_return(w),\n",
    "            \"Riesgo alto\": lambda w: 0.25*annualized_volatility(w)-0.75*annualized_return(w),\n",
    "            \"Rentabilidad máxima\": lambda w: -annualized_return(w)\n",
    "        }\n",
    "\n",
    "        # Optimizar cartera\n",
    "        def optimizar(objetivo):\n",
    "            num_activos = len(mean_daily_returns)\n",
    "            w0 = np.ones(num_activos) / num_activos\n",
    "            bounds = [(0,1) for _ in range(num_activos)]\n",
    "            constraints = {'type':'eq', 'fun': lambda w: np.sum(w)-1}\n",
    "            result = minimize(objetivo, w0, bounds=bounds, constraints=constraints)\n",
    "            return result.x\n",
    "\n",
    "        # Cartera óptima\n",
    "        pesos_optimos = optimizar(objetivos[perfil])\n",
    "\n",
    "        # Mostrar resultados ordenados\n",
    "        cartera = {data.columns[i]: round(pesos_optimos[i]*100, 2) for i in range(len(data.columns)) if pesos_optimos[i] > 0.001}\n",
    "\n",
    "        # Ordenar la cartera por porcentaje de mayor a menor\n",
    "        cartera_ordenada = dict(sorted(cartera.items(), key=lambda item: item[1], reverse=True))\n",
    "\n",
    "        st.subheader(\"🎯 Composición óptima de tu cartera (ordenada de mayor a menor)\")\n",
    "        for empresa, peso in cartera_ordenada.items():\n",
    "            st.write(f\"- **{empresa}:** {peso}%\")\n",
    "\n",
    "        # Convertir divisa a EUR si es necesario\n",
    "\n",
    "        # Mapeo de divisas por activo (según Yahoo Finance)\n",
    "        divisas = {\n",
    "            \"AAPL\": \"USD\", \"MSFT\": \"USD\", \"AMZN\": \"USD\", \"GOOGL\": \"USD\", \"TSLA\": \"USD\",\n",
    "            \"BRK-B\": \"USD\", \"JNJ\": \"USD\", \"XOM\": \"USD\", \"JPM\": \"USD\", \"V\": \"USD\",\n",
    "            \"NESN.SW\": \"CHF\", \"ROG.SW\": \"CHF\", \"005930.KS\": \"KRW\", \"7203.T\": \"JPY\", \"6758.T\": \"JPY\",\n",
    "            \"BABA\": \"HKD\", \"0700.HK\": \"HKD\", \"HSBA.L\": \"GBP\", \"BP.L\": \"GBP\", \"SHEL.L\": \"GBP\",\n",
    "            \"ULVR.L\": \"GBP\", \"MC.PA\": \"EUR\", \"TTE.PA\": \"EUR\", \"SIE.DE\": \"EUR\", \"VOW3.DE\": \"EUR\",\n",
    "            \"SAP.DE\": \"EUR\", \"SAN.MC\": \"EUR\", \"BBVA.MC\": \"EUR\", \"PBR\": \"BRL\", \"VALE\": \"BRL\",\n",
    "            \"IBN\": \"INR\", \"RELIANCE.BO\": \"INR\", \"INFY\": \"INR\", \"2318.HK\": \"HKD\",\n",
    "            \"0941.HK\": \"HKD\", \"RIO.L\": \"GBP\", \"BHP.AX\": \"AUD\", \"CBA.AX\": \"AUD\",\n",
    "            \"CSL.AX\": \"AUD\", \"NOVO-B.CO\": \"DKK\", \"AZN.L\": \"GBP\", \"ADS.DE\": \"EUR\",\n",
    "            \"HEIA.AS\": \"EUR\", \"PHIA.AS\": \"EUR\", \"ENEL.MI\": \"EUR\", \"RACE\": \"EUR\", \"2222.SR\": \"SAR\",\n",
    "            \"TME\": \"USD\", \"META\": \"USD\", \"PG\": \"USD\", \"KO\": \"USD\",\n",
    "            \"PEP\": \"USD\", \"MCD\": \"USD\", \"WMT\": \"USD\", \"COST\": \"USD\", \"INTC\": \"USD\",\n",
    "            \"AMD\": \"USD\", \"NVDA\": \"USD\", \"QCOM\": \"USD\", \"AVGO\": \"USD\", \"TXN\": \"USD\",\n",
    "            \"IBM\": \"USD\", \"ORCL\": \"USD\", \"CRM\": \"USD\", \"ADBE\": \"USD\", \"NFLX\": \"USD\",\n",
    "            \"T\": \"USD\", \"VZ\": \"USD\", \"TMUS\": \"USD\", \"PFE\": \"USD\", \"MRNA\": \"USD\",\n",
    "            \"MRK\": \"USD\", \"BMY\": \"USD\", \"AMGN\": \"USD\", \"GILD\": \"USD\", \"LLY\": \"USD\",\n",
    "            \"CVX\": \"USD\", \"COP\": \"USD\", \"SLB\": \"USD\", \"HAL\": \"USD\", \"MRO\": \"USD\",\n",
    "            \"LMT\": \"USD\", \"NOC\": \"USD\", \"RTX\": \"USD\", \"BA\": \"USD\",\n",
    "            \"GE\": \"USD\", \"HON\": \"USD\", \"MMM\": \"USD\", \"CAT\": \"USD\", \"DE\": \"USD\",\n",
    "            \"SBUX\": \"USD\", \"NKE\": \"USD\", \"LULU\": \"USD\", \"EL\": \"USD\", \"DPZ\": \"USD\",\n",
    "            \"BKNG\": \"USD\", \"AXP\": \"USD\", \"MA\": \"USD\", \"PYPL\": \"USD\"\n",
    "        }\n",
    "\n"
   ]
  },
  {
   "cell_type": "code",
   "execution_count": 6,
   "id": "15d448fb",
   "metadata": {},
   "outputs": [
    {
     "name": "stdout",
     "output_type": "stream",
     "text": [
      "Diccionario de divisas actualizado:\n",
      "{'CWEN': 'USD', 'CODQL': 'USD', 'GNK': 'USD', 'AVTR': 'USD', 'FCN': 'USD', 'MRTN': 'USD', 'XYL': 'USD', 'PDEX': 'USD', 'ETR': 'USD', 'SPRS': 'USD', 'HURN': 'USD', 'RSG': 'USD', 'CWST': 'USD', 'CTS': 'USD', 'TRMB': 'USD', 'ANSS': 'USD', 'ADEA': 'USD', 'NI': 'USD', 'ACCO': 'USD', 'ALE': 'USD', 'CXT': 'USD', 'HEI': 'USD', 'MSA': 'USD', 'RBC': 'USD', 'MWA': 'USD', 'ALB': 'USD', 'LNG': 'USD', 'CVLG': 'USD'}\n"
     ]
    }
   ],
   "source": [
    "# Generar diccionario de divisas automáticamente\n",
    "divisas = {}\n",
    "for ticker in top_stocks_tickers:\n",
    "    try:\n",
    "        info = yf.Ticker(ticker).info\n",
    "        currency = info.get('currency', 'USD')  # Por defecto USD si no se encuentra\n",
    "        divisas[ticker] = currency\n",
    "    except Exception as e:\n",
    "        print(f\"Error obteniendo divisa para {ticker}: {e}\")\n",
    "        divisas[ticker] = 'USD'  # Asume USD si hay error\n",
    "\n",
    "print(\"Diccionario de divisas actualizado:\")\n",
    "print(divisas)"
   ]
  },
  {
   "cell_type": "code",
   "execution_count": null,
   "id": "a78058da",
   "metadata": {},
   "outputs": [],
   "source": [
    "        # Descargar tipos de cambio necesarios\n",
    "        st.write(\"🔄 **Descargando tipos de cambio para convertir a EUR...**\")\n",
    "        tipos_cambio = {}\n",
    "        for divisa in set(divisas.values()):\n",
    "            if divisa != \"EUR\":  # No necesitamos convertir EUR a EUR\n",
    "                ticker = f\"EUR{divisa}=X\" if divisa != \"USD\" else \"EURUSD=X\"\n",
    "                tipos_cambio[divisa] = yf.download(ticker, start=start_date, end=end_date)['Close'].fillna(method='ffill')\n",
    "\n",
    "        # Convertir cada activo a EUR según su divisa\n",
    "        st.write(\"💱 **Convirtiendo valores de los activos a EUR...**\")\n",
    "        data_eur = data.copy()\n",
    "        for column in data.columns:\n",
    "            divisa = divisas.get(column, \"USD\")  # Asumir USD por defecto si no se especifica\n",
    "            if divisa != \"EUR\":  # Solo convertir si no está ya en EUR\n",
    "                ticker = f\"EUR{divisa}=X\" if divisa != \"USD\" else \"EURUSD=X\"\n",
    "                # Alinear los índices de los datos y los tipos de cambio\n",
    "                tipo_cambio_alineado = tipos_cambio[divisa].reindex(data.index).fillna(method='ffill')\n",
    "                # Convertir el precio del activo a EUR\n",
    "                data_eur[column] = data[column] / tipo_cambio_alineado[ticker]\n",
    "\n",
    "        # Continuar con el cálculo de la cartera\n",
    "        st.write(\"📊 **Calculando el valor diario de la cartera propuesta...**\")\n",
    "\n",
    "        # Escalamos la cartera como si hubieras invertido 1.000 €\n",
    "        inversion_inicial = 1000\n",
    "        cartera_retornos = (data_eur * pesos_optimos).sum(axis=1)\n",
    "        cartera_valores = cartera_retornos / cartera_retornos.iloc[0] * inversion_inicial"
   ]
  }
 ],
 "metadata": {
  "kernelspec": {
   "display_name": "entorno_evolve",
   "language": "python",
   "name": "python3"
  },
  "language_info": {
   "codemirror_mode": {
    "name": "ipython",
    "version": 3
   },
   "file_extension": ".py",
   "mimetype": "text/x-python",
   "name": "python",
   "nbconvert_exporter": "python",
   "pygments_lexer": "ipython3",
   "version": "3.10.16"
  }
 },
 "nbformat": 4,
 "nbformat_minor": 5
}
