{
 "cells": [
  {
   "cell_type": "code",
   "execution_count": 2,
   "id": "06e81bfc",
   "metadata": {},
   "outputs": [],
   "source": [
    "import streamlit as st\n",
    "import pandas as pd\n",
    "import numpy as np\n",
    "import yfinance as yf\n",
    "from datetime import datetime, timedelta\n",
    "from scipy.optimize import minimize\n",
    "import matplotlib.pyplot as plt\n",
    "from dotenv import load_dotenv\n",
    "import os\n",
    "import openai\n",
    "from openai import OpenAI\n",
    "\n",
    "load_dotenv()\n",
    "#openai.api_key = st.secrets.get(\"OPENAI_API_KEY\", os.getenv(\"OPENAI_API_KEY\"))\n",
    "\n",
    "#import cmdstanpy\n",
    "#cmdstanpy.install_cmdstan()\n",
    "\n",
    "\n",
    "# Definir las fechas globalmente\n",
    "end_date = datetime.now()\n",
    "start_date = end_date - timedelta(days=5*365)"
   ]
  },
  {
   "cell_type": "code",
   "execution_count": 3,
   "id": "7178bea2",
   "metadata": {},
   "outputs": [],
   "source": [
    "top_stocks = 'top_28_growth_stocks.csv'\n",
    "df = pd.read_csv(top_stocks)"
   ]
  },
  {
   "cell_type": "code",
   "execution_count": 6,
   "id": "5b023470",
   "metadata": {},
   "outputs": [
    {
     "name": "stdout",
     "output_type": "stream",
     "text": [
      "top_stocks_tickers: \n",
      "['CWEN', 'CODQL', 'GNK', 'AVTR', 'FCN', 'MRTN', 'XYL', 'PDEX', 'ETR', 'SPRS', 'HURN', 'RSG', 'CWST', 'CTS', 'TRMB', 'ANSS', 'ADEA', 'NI', 'ACCO', 'ALE', 'CXT', 'HEI', 'MSA', 'RBC', 'MWA', 'ALB', 'LNG', 'CVLG']\n",
      "top_stocks_names: \n",
      "['CLEARWAY ENERGY, INC.', 'CORONADO GLOBAL RESOURCES INC.', 'GENCO SHIPPING & TRADING LTD', 'AVANTOR, INC.', 'FTI CONSULTING, INC', 'MARTEN TRANSPORT LTD', 'XYLEM INC.', 'PRO DEX INC', 'ENTERGY CORP /DE/', 'SURGE COMPONENTS INC', 'HURON CONSULTING GROUP INC.', 'REPUBLIC SERVICES, INC.', 'CASELLA WASTE SYSTEMS INC', 'CTS CORP', 'TRIMBLE INC.', 'ANSYS INC', 'XPERI HOLDING CORP', 'NISOURCE INC.', 'ACCO BRANDS CORP', 'ALLETE INC', 'CRANE CO /DE/', 'HEICO CORP', 'MSA SAFETY INC', 'RBC BEARINGS INC', 'MUELLER WATER PRODUCTS, INC.', 'ALBEMARLE CORP', 'CHENIERE ENERGY INC', 'COVENANT LOGISTICS GROUP, INC.']\n"
     ]
    }
   ],
   "source": [
    "top_stocks_tickers = df['Ticker'].tolist()\n",
    "top_stocks_names = df['name'].tolist()\n",
    "print(\"top_stocks_tickers: \")\n",
    "print(top_stocks_tickers)\n",
    "print(\"top_stocks_names: \")\n",
    "print(top_stocks_names)\n"
   ]
  },
  {
   "cell_type": "code",
   "execution_count": null,
   "id": "c11e1cd4",
   "metadata": {},
   "outputs": [
    {
     "name": "stdout",
     "output_type": "stream",
     "text": [
      "Ticker válido: CWEN (CLEARWAY ENERGY, INC.)\n",
      "Ticker válido: CODQL (CORONADO GLOBAL RESOURCES INC.)\n",
      "Ticker válido: GNK (GENCO SHIPPING & TRADING LTD)\n",
      "Ticker válido: AVTR (AVANTOR, INC.)\n",
      "Ticker válido: FCN (FTI CONSULTING, INC)\n",
      "Ticker válido: MRTN (MARTEN TRANSPORT LTD)\n",
      "Ticker válido: XYL (XYLEM INC.)\n",
      "Ticker válido: PDEX (PRO DEX INC)\n",
      "Ticker válido: ETR (ENTERGY CORP /DE/)\n",
      "Ticker válido: SPRS (SURGE COMPONENTS INC)\n",
      "Ticker válido: HURN (HURON CONSULTING GROUP INC.)\n",
      "Ticker válido: RSG (REPUBLIC SERVICES, INC.)\n",
      "Ticker válido: CWST (CASELLA WASTE SYSTEMS INC)\n",
      "Ticker válido: CTS (CTS CORP)\n",
      "Ticker válido: TRMB (TRIMBLE INC.)\n",
      "Ticker válido: ANSS (ANSYS INC)\n",
      "Ticker válido: ADEA (XPERI HOLDING CORP)\n",
      "Ticker válido: NI (NISOURCE INC.)\n",
      "Ticker válido: ACCO (ACCO BRANDS CORP)\n",
      "Ticker válido: ALE (ALLETE INC)\n",
      "Ticker válido: CXT (CRANE CO /DE/)\n",
      "Ticker válido: HEI (HEICO CORP)\n",
      "Ticker válido: MSA (MSA SAFETY INC)\n",
      "Ticker válido: RBC (RBC BEARINGS INC)\n",
      "Ticker válido: MWA (MUELLER WATER PRODUCTS, INC.)\n",
      "Ticker válido: ALB (ALBEMARLE CORP)\n",
      "Ticker válido: LNG (CHENIERE ENERGY INC)\n",
      "Ticker válido: CVLG (COVENANT LOGISTICS GROUP, INC.)\n"
     ]
    }
   ],
   "source": [
    "import yfinance as yf\n",
    "\n",
    "# Comprobar si los tickers existen en yfinance\n",
    "for ticker, name in zip(top_stocks_tickers, top_stocks_names):\n",
    "    try:\n",
    "        data = yf.Ticker(ticker).history(period=\"1d\")\n",
    "        if data.empty:\n",
    "            print(f\"Ticker NO válido o sin datos: {ticker} ({name})\")\n",
    "    except Exception as e:\n",
    "        print(f\"Error con {ticker} ({name}): {e}\")"
   ]
  },
  {
   "cell_type": "code",
   "execution_count": null,
   "id": "36d93985",
   "metadata": {},
   "outputs": [],
   "source": [
    "def cargar_datos():\n",
    "    symbols = {\n",
    "    \"Apple\": \"AAPL\", \"Microsoft\": \"MSFT\", \"Amazon\": \"AMZN\", \"Alphabet (Google)\": \"GOOGL\", \"Tesla\": \"TSLA\",\n",
    "    \"Berkshire Hathaway\": \"BRK-B\", \"Johnson & Johnson\": \"JNJ\", \"Exxon Mobil\": \"XOM\", \"JPMorgan Chase\": \"JPM\", \"Visa\": \"V\",\n",
    "    \"Nestlé\": \"NESN.SW\", \"Roche\": \"ROG.SW\", \"Samsung Electronics\": \"005930.KS\", \"Toyota\": \"7203.T\", \"Sony\": \"6758.T\",\n",
    "    \"Alibaba\": \"BABA\", \"Tencent\": \"0700.HK\", \"HSBC\": \"HSBA.L\", \"BP\": \"BP.L\", \"Shell\": \"SHEL.L\",\n",
    "    \"Unilever\": \"ULVR.L\", \"LVMH\": \"MC.PA\", \"TotalEnergies\": \"TTE.PA\", \"Siemens\": \"SIE.DE\", \"Volkswagen\": \"VOW3.DE\",\n",
    "    \"SAP\": \"SAP.DE\", \"Banco Santander\": \"SAN.MC\", \"BBVA\": \"BBVA.MC\", \"Petrobras\": \"PBR\", \"Vale\": \"VALE\",\n",
    "    \"ICICI Bank\": \"IBN\", \"Reliance Industries\": \"RELIANCE.BO\", \"Infosys\": \"INFY\", \"Ping An Insurance\": \"2318.HK\",\n",
    "    \"China Mobile\": \"0941.HK\", \"Rio Tinto\": \"RIO.L\", \"BHP Group\": \"BHP.AX\", \"Commonwealth Bank\": \"CBA.AX\",\n",
    "    \"CSL Limited\": \"CSL.AX\", \"Novo Nordisk\": \"NOVO-B.CO\", \"AstraZeneca\": \"AZN.L\", \"Adidas\": \"ADS.DE\",\n",
    "    \"Heineken\": \"HEIA.AS\", \"Philips\": \"PHIA.AS\", \"Enel\": \"ENEL.MI\", \"Ferrari\": \"RACE\", \"Saudi Aramco\": \"2222.SR\",\n",
    "    \"Tencent Music\": \"TME\", \"Meta Platforms (Facebook)\": \"META\", \"Procter & Gamble\": \"PG\", \"Coca-Cola\": \"KO\",\n",
    "    \"PepsiCo\": \"PEP\", \"McDonald's\": \"MCD\", \"Walmart\": \"WMT\", \"Costco\": \"COST\", \"Intel\": \"INTC\",\n",
    "    \"AMD\": \"AMD\", \"NVIDIA\": \"NVDA\", \"Qualcomm\": \"QCOM\", \"Broadcom\": \"AVGO\", \"Texas Instruments\": \"TXN\",\n",
    "    \"IBM\": \"IBM\", \"Oracle\": \"ORCL\", \"Salesforce\": \"CRM\", \"Adobe\": \"ADBE\", \"Netflix\": \"NFLX\",\n",
    "    \"AT&T\": \"T\", \"Verizon\": \"VZ\", \"T-Mobile\": \"TMUS\", \"Pfizer\": \"PFE\", \"Moderna\": \"MRNA\",\n",
    "    \"Merck\": \"MRK\", \"Bristol-Myers Squibb\": \"BMY\", \"Amgen\": \"AMGN\", \"Gilead Sciences\": \"GILD\", \"Eli Lilly\": \"LLY\",\n",
    "    \"Chevron\": \"CVX\", \"ConocoPhillips\": \"COP\", \"Schlumberger\": \"SLB\", \"Halliburton\": \"HAL\", \"Marathon Oil\": \"MRO\",\n",
    "    \"Lockheed Martin\": \"LMT\", \"Northrop Grumman\": \"NOC\", \"Raytheon Technologies\": \"RTX\", \"Boeing\": \"BA\",\n",
    "    \"General Electric\": \"GE\", \"Honeywell\": \"HON\", \"3M\": \"MMM\", \"Caterpillar\": \"CAT\", \"Deere & Company\": \"DE\",\n",
    "    \"Starbucks\": \"SBUX\", \"Nike\": \"NKE\", \"Lululemon\": \"LULU\", \"Estee Lauder\": \"EL\", \"Domino's Pizza\": \"DPZ\",\n",
    "    \"Booking Holdings\": \"BKNG\", \"American Express\": \"AXP\", \"Mastercard\": \"MA\", \"PayPal\": \"PYPL\"\n",
    "        # Puedes agregar más compañías aquí para tu MVP\n",
    "    }\n",
    "    data = pd.DataFrame()\n",
    "    for company, symbol in symbols.items():\n",
    "        df = yf.download(symbol, start=start_date, end=end_date)['Close']\n",
    "        if not df.empty:\n",
    "            data[company] = df\n",
    "        else:\n",
    "            print(f\"No se pudieron descargar los datos para {company} ({symbol}).\")\n",
    "    return data.dropna()\n",
    "\n",
    "data = cargar_datos()"
   ]
  }
 ],
 "metadata": {
  "kernelspec": {
   "display_name": "proyecto_cartera_inversion",
   "language": "python",
   "name": "python3"
  },
  "language_info": {
   "codemirror_mode": {
    "name": "ipython",
    "version": 3
   },
   "file_extension": ".py",
   "mimetype": "text/x-python",
   "name": "python",
   "nbconvert_exporter": "python",
   "pygments_lexer": "ipython3",
   "version": "3.9.21"
  }
 },
 "nbformat": 4,
 "nbformat_minor": 5
}
